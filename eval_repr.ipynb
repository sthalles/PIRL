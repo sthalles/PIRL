{
 "cells": [
  {
   "cell_type": "code",
   "execution_count": 1,
   "metadata": {},
   "outputs": [
    {
     "name": "stderr",
     "output_type": "stream",
     "text": [
      "Using TensorFlow backend.\n"
     ]
    }
   ],
   "source": [
    "import numpy as np\n",
    "import tensorflow as tf\n",
    "from keras.datasets import cifar10\n",
    "import matplotlib.pyplot as plt\n",
    "from sklearn.model_selection import train_test_split\n",
    "from sklearn.linear_model import LogisticRegression"
   ]
  },
  {
   "cell_type": "code",
   "execution_count": 2,
   "metadata": {},
   "outputs": [
    {
     "name": "stdout",
     "output_type": "stream",
     "text": [
      "(10000, 32, 32, 3)\n",
      "(10000, 1)\n"
     ]
    }
   ],
   "source": [
    "# The data, split between train and test sets:\n",
    "(_, _), (X, y) = cifar10.load_data()\n",
    "print(X.shape)\n",
    "print(y.shape)"
   ]
  },
  {
   "cell_type": "code",
   "execution_count": 3,
   "metadata": {},
   "outputs": [
    {
     "name": "stdout",
     "output_type": "stream",
     "text": [
      "WARNING:tensorflow:No training configuration found in save file: the model was *not* compiled. Compile it manually.\n"
     ]
    }
   ],
   "source": [
    "encoder = tf.keras.models.load_model('./encoder.h5')"
   ]
  },
  {
   "cell_type": "code",
   "execution_count": 4,
   "metadata": {},
   "outputs": [],
   "source": [
    "X_train, X_test, y_train, y_test = train_test_split(X, y, test_size=0.2, random_state=42)"
   ]
  },
  {
   "cell_type": "markdown",
   "metadata": {},
   "source": [
    "## Baseline"
   ]
  },
  {
   "cell_type": "code",
   "execution_count": 5,
   "metadata": {},
   "outputs": [],
   "source": [
    "# clf = LogisticRegression(random_state=0, solver='lbfgs', multi_class='auto').fit(np.reshape(X_train,(X_train.shape[0], -1)), y_train.squeeze())"
   ]
  },
  {
   "cell_type": "code",
   "execution_count": 6,
   "metadata": {},
   "outputs": [],
   "source": [
    "# clf.score(np.reshape(X_test,(X_test.shape[0], -1)), y_test)"
   ]
  },
  {
   "cell_type": "markdown",
   "metadata": {},
   "source": [
    "## Self-Supervised pre-training"
   ]
  },
  {
   "cell_type": "code",
   "execution_count": 7,
   "metadata": {},
   "outputs": [
    {
     "name": "stdout",
     "output_type": "stream",
     "text": [
      "(8000, 64)\n",
      "(2000, 64)\n"
     ]
    }
   ],
   "source": [
    "X_train_repr = encoder(X_train / 255.)\n",
    "X_test_repr = encoder(X_test / 255.)\n",
    "print(X_train_repr.shape)\n",
    "print(X_test_repr.shape)"
   ]
  },
  {
   "cell_type": "code",
   "execution_count": 8,
   "metadata": {},
   "outputs": [],
   "source": [
    "clf = LogisticRegression(random_state=0, solver='lbfgs', multi_class='auto').fit(X_train_repr, y_train.squeeze())"
   ]
  },
  {
   "cell_type": "code",
   "execution_count": 19,
   "metadata": {},
   "outputs": [
    {
     "data": {
      "text/plain": [
       "0.1325"
      ]
     },
     "execution_count": 19,
     "metadata": {},
     "output_type": "execute_result"
    }
   ],
   "source": [
    "clf.score(X_test_repr, y_test.squeeze())\n",
    "# 0.2205"
   ]
  },
  {
   "cell_type": "code",
   "execution_count": 10,
   "metadata": {},
   "outputs": [
    {
     "data": {
      "text/plain": [
       "<tf.Tensor: shape=(64,), dtype=float32, numpy=\n",
       "array([0.        , 0.02203218, 0.06431255, 0.        , 0.        ,\n",
       "       0.01628256, 0.00574495, 0.        , 0.00058333, 0.01102319,\n",
       "       0.        , 0.00774174, 0.        , 0.05404237, 0.01079597,\n",
       "       0.        , 0.01220455, 0.02269833, 0.        , 0.        ,\n",
       "       0.02870458, 0.03234017, 0.03352561, 0.        , 0.        ,\n",
       "       0.        , 0.        , 0.02182167, 0.        , 0.        ,\n",
       "       0.03413367, 0.        , 0.        , 0.01302883, 0.        ,\n",
       "       0.02511339, 0.03386034, 0.        , 0.04305923, 0.01520518,\n",
       "       0.        , 0.        , 0.        , 0.01688802, 0.        ,\n",
       "       0.00526548, 0.        , 0.03594415, 0.00747574, 0.04394847,\n",
       "       0.06942847, 0.02991914, 0.        , 0.        , 0.        ,\n",
       "       0.00039897, 0.        , 0.        , 0.01334965, 0.04753837,\n",
       "       0.01650756, 0.02549673, 0.        , 0.        ], dtype=float32)>"
      ]
     },
     "execution_count": 10,
     "metadata": {},
     "output_type": "execute_result"
    }
   ],
   "source": [
    "X_train_repr[0]"
   ]
  },
  {
   "cell_type": "code",
   "execution_count": 11,
   "metadata": {},
   "outputs": [
    {
     "data": {
      "text/plain": [
       "<tf.Tensor: shape=(64,), dtype=float32, numpy=\n",
       "array([0.        , 0.02196622, 0.06120525, 0.        , 0.        ,\n",
       "       0.01421653, 0.00953932, 0.        , 0.00072643, 0.01154679,\n",
       "       0.        , 0.00646555, 0.        , 0.05551305, 0.00907742,\n",
       "       0.        , 0.01302468, 0.01533172, 0.        , 0.        ,\n",
       "       0.02824804, 0.02621051, 0.02854381, 0.        , 0.        ,\n",
       "       0.00255286, 0.        , 0.01792722, 0.        , 0.        ,\n",
       "       0.02563109, 0.        , 0.        , 0.0125089 , 0.        ,\n",
       "       0.01861791, 0.03106778, 0.        , 0.04388055, 0.01448373,\n",
       "       0.        , 0.        , 0.        , 0.01143435, 0.        ,\n",
       "       0.00538129, 0.        , 0.03384916, 0.0037426 , 0.03981137,\n",
       "       0.0616336 , 0.03772312, 0.        , 0.        , 0.        ,\n",
       "       0.        , 0.        , 0.        , 0.01178576, 0.04341508,\n",
       "       0.01345163, 0.02156401, 0.        , 0.        ], dtype=float32)>"
      ]
     },
     "execution_count": 11,
     "metadata": {},
     "output_type": "execute_result"
    }
   ],
   "source": [
    "X_test_repr[0]"
   ]
  },
  {
   "cell_type": "code",
   "execution_count": null,
   "metadata": {},
   "outputs": [],
   "source": []
  }
 ],
 "metadata": {
  "kernelspec": {
   "display_name": "tf2_cpu",
   "language": "python",
   "name": "tf2_cpu"
  },
  "language_info": {
   "codemirror_mode": {
    "name": "ipython",
    "version": 3
   },
   "file_extension": ".py",
   "mimetype": "text/x-python",
   "name": "python",
   "nbconvert_exporter": "python",
   "pygments_lexer": "ipython3",
   "version": "3.6.9"
  }
 },
 "nbformat": 4,
 "nbformat_minor": 2
}
