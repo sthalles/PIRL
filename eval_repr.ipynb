{
 "cells": [
  {
   "cell_type": "code",
   "execution_count": 43,
   "metadata": {},
   "outputs": [],
   "source": [
    "import numpy as np\n",
    "import tensorflow as tf\n",
    "from keras.datasets import cifar10\n",
    "import matplotlib.pyplot as plt\n",
    "from sklearn.model_selection import train_test_split\n",
    "from sklearn.linear_model import LogisticRegression\n",
    "from models import CNN"
   ]
  },
  {
   "cell_type": "code",
   "execution_count": 44,
   "metadata": {},
   "outputs": [
    {
     "name": "stdout",
     "output_type": "stream",
     "text": [
      "(10000, 32, 32, 3)\n",
      "(10000, 1)\n",
      "0 255\n"
     ]
    }
   ],
   "source": [
    "# The data, split between train and test sets:\n",
    "(X_train, y_train), (X, y) = cifar10.load_data()\n",
    "print(X.shape)\n",
    "print(y.shape)\n",
    "print(np.min(X), np.max(X))"
   ]
  },
  {
   "cell_type": "code",
   "execution_count": 45,
   "metadata": {},
   "outputs": [],
   "source": [
    "encoder = CNN(X.shape[1:])\n",
    "_ = encoder(np.random.rand(1,32,32,3).astype(np.float32), head='f')"
   ]
  },
  {
   "cell_type": "code",
   "execution_count": 46,
   "metadata": {},
   "outputs": [],
   "source": [
    "X_train, X_test, y_train, y_test = train_test_split(X, y, test_size=0.2, random_state=42)"
   ]
  },
  {
   "cell_type": "markdown",
   "metadata": {},
   "source": [
    "## Baseline"
   ]
  },
  {
   "cell_type": "code",
   "execution_count": 5,
   "metadata": {},
   "outputs": [
    {
     "name": "stderr",
     "output_type": "stream",
     "text": [
      "/home/thallessilva/anaconda3/envs/tf2.0/lib/python3.6/site-packages/sklearn/linear_model/logistic.py:947: ConvergenceWarning: lbfgs failed to converge. Increase the number of iterations.\n",
      "  \"of iterations.\", ConvergenceWarning)\n"
     ]
    }
   ],
   "source": [
    "clf = LogisticRegression(random_state=0, solver='lbfgs', multi_class='auto').fit(np.reshape(X_train,(X_train.shape[0], -1)), y_train.squeeze())"
   ]
  },
  {
   "cell_type": "code",
   "execution_count": 6,
   "metadata": {},
   "outputs": [
    {
     "name": "stdout",
     "output_type": "stream",
     "text": [
      "Train score: 0.4815 Test score: 0.388\n"
     ]
    }
   ],
   "source": [
    "print(\"Train score:\", clf.score(np.reshape(X_train,(X_train.shape[0], -1)), y_train),\n",
    "      \"Test score:\", clf.score(np.reshape(X_test,(X_test.shape[0], -1)), y_test))"
   ]
  },
  {
   "cell_type": "markdown",
   "metadata": {},
   "source": [
    "## Self-Supervised pre-training"
   ]
  },
  {
   "cell_type": "code",
   "execution_count": 50,
   "metadata": {},
   "outputs": [
    {
     "name": "stdout",
     "output_type": "stream",
     "text": [
      "(8000, 64)\n",
      "(2000, 64)\n"
     ]
    }
   ],
   "source": [
    "X_train_repr, _ = encoder(tf.cast(X_train, tf.float32) / 255, head='f', training=True)\n",
    "X_test_repr, _ = encoder(tf.cast(X_test, tf.float32) / 255, head='f', training=True)\n",
    "print(X_train_repr.shape)\n",
    "print(X_test_repr.shape)"
   ]
  },
  {
   "cell_type": "code",
   "execution_count": 51,
   "metadata": {},
   "outputs": [
    {
     "name": "stderr",
     "output_type": "stream",
     "text": [
      "/home/thallessilva/anaconda3/envs/tf2.0/lib/python3.6/site-packages/sklearn/linear_model/logistic.py:947: ConvergenceWarning: lbfgs failed to converge. Increase the number of iterations.\n",
      "  \"of iterations.\", ConvergenceWarning)\n"
     ]
    }
   ],
   "source": [
    "clf = LogisticRegression(random_state=0, solver='lbfgs', multi_class='auto').fit(X_train_repr, y_train.squeeze())"
   ]
  },
  {
   "cell_type": "code",
   "execution_count": 52,
   "metadata": {},
   "outputs": [
    {
     "name": "stdout",
     "output_type": "stream",
     "text": [
      "0.36825 0.334\n"
     ]
    }
   ],
   "source": [
    "print(clf.score(X_train_repr, y_train.squeeze()), clf.score(X_test_repr, y_test.squeeze()))\n",
    "# 0.3755"
   ]
  },
  {
   "cell_type": "code",
   "execution_count": 53,
   "metadata": {},
   "outputs": [
    {
     "data": {
      "text/plain": [
       "<tf.Tensor: shape=(64,), dtype=float32, numpy=\n",
       "array([1.4345019 , 0.9479765 , 1.031179  , 1.1265006 , 1.0575852 ,\n",
       "       1.2833749 , 1.0068806 , 1.1436627 , 0.8638181 , 1.087645  ,\n",
       "       0.8988261 , 1.0996872 , 0.6563535 , 0.6036526 , 0.9003408 ,\n",
       "       0.7250682 , 1.1738721 , 0.85018444, 0.6500663 , 0.78287464,\n",
       "       0.819268  , 1.7437247 , 0.69539636, 0.39964586, 1.2351049 ,\n",
       "       0.7544596 , 1.068433  , 0.78548145, 1.1780468 , 0.7318143 ,\n",
       "       1.0040369 , 1.6381004 , 0.88464075, 1.0014634 , 1.3250813 ,\n",
       "       1.252008  , 0.5859614 , 0.97549677, 0.67451763, 0.5935444 ,\n",
       "       0.86094284, 1.7463434 , 0.6409968 , 0.9102959 , 0.67559314,\n",
       "       0.58983535, 1.625846  , 1.090554  , 0.9042509 , 0.43855608,\n",
       "       0.7684854 , 1.3378581 , 1.3805388 , 1.6071941 , 0.7532274 ,\n",
       "       0.9251851 , 0.5050979 , 1.1226472 , 0.44601113, 1.1929951 ,\n",
       "       0.7432823 , 0.94509083, 1.2071098 , 0.94144225], dtype=float32)>"
      ]
     },
     "execution_count": 53,
     "metadata": {},
     "output_type": "execute_result"
    }
   ],
   "source": [
    "X_train_repr[0]"
   ]
  },
  {
   "cell_type": "code",
   "execution_count": 54,
   "metadata": {},
   "outputs": [
    {
     "data": {
      "text/plain": [
       "<tf.Tensor: shape=(64,), dtype=float32, numpy=\n",
       "array([1.163074  , 0.3929186 , 0.8468636 , 0.9747061 , 1.0373178 ,\n",
       "       0.42367733, 0.7278984 , 0.43993396, 0.95941436, 0.49452153,\n",
       "       1.0536957 , 0.86911094, 1.3979626 , 0.5592682 , 0.45195234,\n",
       "       1.0721087 , 0.7322221 , 0.8395248 , 0.5836114 , 0.90972924,\n",
       "       0.37710944, 0.893841  , 1.0455859 , 0.49756956, 0.87728655,\n",
       "       0.9519247 , 0.73863816, 1.3595743 , 0.37984008, 0.917101  ,\n",
       "       1.177542  , 0.9841347 , 0.8329063 , 0.63866127, 0.24640732,\n",
       "       0.75444293, 0.72150624, 0.8277275 , 0.38161442, 0.85956013,\n",
       "       0.09088154, 0.73261434, 0.7871045 , 0.45621416, 1.0522455 ,\n",
       "       0.49588618, 0.8464479 , 0.5313008 , 0.54037523, 1.1193264 ,\n",
       "       1.0375642 , 0.7498039 , 0.52152395, 1.0487715 , 0.8318695 ,\n",
       "       0.9244063 , 0.47892818, 0.22218975, 0.5456107 , 1.05145   ,\n",
       "       1.20453   , 0.90938157, 0.65117776, 0.35398453], dtype=float32)>"
      ]
     },
     "execution_count": 54,
     "metadata": {},
     "output_type": "execute_result"
    }
   ],
   "source": [
    "X_test_repr[0]"
   ]
  },
  {
   "cell_type": "code",
   "execution_count": 12,
   "metadata": {},
   "outputs": [
    {
     "name": "stdout",
     "output_type": "stream",
     "text": [
      "Loss:  -0.8535534\n"
     ]
    }
   ],
   "source": [
    "cosine_loss = tf.keras.losses.CosineSimilarity(axis=1)\n",
    "loss = cosine_loss([[0.0001, 1], [1., 1]], [[0.0002, 1], [0., 1]])\n",
    "\n",
    "print('Loss: ', loss.numpy())  # Loss: 0.5"
   ]
  },
  {
   "cell_type": "code",
   "execution_count": 13,
   "metadata": {},
   "outputs": [
    {
     "name": "stdout",
     "output_type": "stream",
     "text": [
      "tf.Tensor(0, shape=(), dtype=int32)\n"
     ]
    }
   ],
   "source": [
    "a = tf.convert_to_tensor([1,6,5], dtype=tf.int32)\n",
    "b = tf.convert_to_tensor([4,3,2], dtype=tf.int32)\n",
    "res = tf.sets.intersection(a[None,:],b[None,:])\n",
    "print(tf.size(res))"
   ]
  },
  {
   "cell_type": "code",
   "execution_count": 14,
   "metadata": {},
   "outputs": [
    {
     "name": "stdout",
     "output_type": "stream",
     "text": [
      "[0.99999994 0.99999994]\n"
     ]
    }
   ],
   "source": [
    "a = np.array([28.171087, 30.802778], dtype=np.float32)\n",
    "b = np.array([2.2323670e-06, 2.1488113e-06], dtype=np.float32)\n",
    "\n",
    "print(a / (a+b))"
   ]
  },
  {
   "cell_type": "code",
   "execution_count": 15,
   "metadata": {},
   "outputs": [
    {
     "data": {
      "text/plain": [
       "<tf.Tensor: shape=(1, 5), dtype=int64, numpy=array([[1, 0, 1, 0, 1]])>"
      ]
     },
     "execution_count": 15,
     "metadata": {},
     "output_type": "execute_result"
    }
   ],
   "source": [
    "samples = tf.random.categorical(tf.math.log([[0.5, 0.5]]), 5)\n",
    "samples"
   ]
  },
  {
   "cell_type": "code",
   "execution_count": 16,
   "metadata": {},
   "outputs": [
    {
     "name": "stdout",
     "output_type": "stream",
     "text": [
      "tf.Tensor([1 0 1 1 0 1 1 1 1 1], shape=(10,), dtype=int32)\n"
     ]
    }
   ],
   "source": [
    "shape = (10,8)\n",
    "\n",
    "positive_indices = tf.constant([[1], [4]])\n",
    "positive_indices_mask = tf.zeros_like(positive_indices.shape)\n",
    "\n",
    "mask = tf.ones([shape[0]], dtype=tf.int32)\n",
    "mask = tf.tensor_scatter_nd_update(mask, positive_indices, positive_indices_mask)\n",
    "print(mask)"
   ]
  },
  {
   "cell_type": "code",
   "execution_count": 17,
   "metadata": {},
   "outputs": [
    {
     "name": "stdout",
     "output_type": "stream",
     "text": [
      "tf.Tensor([0.125 0.    0.125 0.125 0.    0.125 0.125 0.125 0.125 0.125], shape=(10,), dtype=float32)\n",
      "tf.Tensor([[0 6 7 ... 2 6 7]], shape=(1, 5000), dtype=int64)\n"
     ]
    }
   ],
   "source": [
    "p = tf.ones(shape[0])\n",
    "p = p * tf.cast(mask, tf.float32)\n",
    "p = p / tf.reduce_sum(p)\n",
    "print(p)\n",
    "\n",
    "candidate_negative_indices = tf.random.categorical(tf.math.log(tf.reshape(p, (1,-1))), 5000) # note log-prob\n",
    "print(candidate_negative_indices)"
   ]
  },
  {
   "cell_type": "code",
   "execution_count": 18,
   "metadata": {},
   "outputs": [
    {
     "data": {
      "text/plain": [
       "(array([676.,   0., 598., 625.,   0., 614., 618., 600., 681., 588.]),\n",
       " array([0. , 0.9, 1.8, 2.7, 3.6, 4.5, 5.4, 6.3, 7.2, 8.1, 9. ]),\n",
       " <a list of 10 Patch objects>)"
      ]
     },
     "execution_count": 18,
     "metadata": {},
     "output_type": "execute_result"
    },
    {
     "data": {
      "image/png": "[encoded data removed]",
      "text/plain": [
       "<Figure size 432x288 with 1 Axes>"
      ]
     },
     "metadata": {
      "needs_background": "light"
     },
     "output_type": "display_data"
    }
   ],
   "source": [
    "plt.hist(candidate_negative_indices)"
   ]
  },
  {
   "cell_type": "code",
   "execution_count": 19,
   "metadata": {},
   "outputs": [
    {
     "ename": "NameError",
     "evalue": "name 'updated' is not defined",
     "output_type": "error",
     "traceback": [
      "\u001b[0;31m---------------------------------------------------------------------------\u001b[0m",
      "\u001b[0;31mNameError\u001b[0m                                 Traceback (most recent call last)",
      "\u001b[0;32m<ipython-input-19-e42a85a48d92>\u001b[0m in \u001b[0;36m<module>\u001b[0;34m\u001b[0m\n\u001b[1;32m      7\u001b[0m \u001b[0mtensor\u001b[0m \u001b[0;34m=\u001b[0m \u001b[0mtf\u001b[0m\u001b[0;34m.\u001b[0m\u001b[0mones\u001b[0m\u001b[0;34m(\u001b[0m\u001b[0;34m[\u001b[0m\u001b[0;36m8\u001b[0m\u001b[0;34m]\u001b[0m\u001b[0;34m,\u001b[0m \u001b[0mdtype\u001b[0m\u001b[0;34m=\u001b[0m\u001b[0mtf\u001b[0m\u001b[0;34m.\u001b[0m\u001b[0mint32\u001b[0m\u001b[0;34m)\u001b[0m\u001b[0;34m\u001b[0m\u001b[0;34m\u001b[0m\u001b[0m\n\u001b[1;32m      8\u001b[0m \u001b[0mmask\u001b[0m \u001b[0;34m=\u001b[0m \u001b[0mtf\u001b[0m\u001b[0;34m.\u001b[0m\u001b[0mtensor_scatter_nd_update\u001b[0m\u001b[0;34m(\u001b[0m\u001b[0mtensor\u001b[0m\u001b[0;34m,\u001b[0m \u001b[0mindices\u001b[0m\u001b[0;34m,\u001b[0m \u001b[0mupdates\u001b[0m\u001b[0;34m)\u001b[0m\u001b[0;34m\u001b[0m\u001b[0;34m\u001b[0m\u001b[0m\n\u001b[0;32m----> 9\u001b[0;31m \u001b[0mprint\u001b[0m\u001b[0;34m(\u001b[0m\u001b[0mupdated\u001b[0m\u001b[0;34m)\u001b[0m\u001b[0;34m\u001b[0m\u001b[0;34m\u001b[0m\u001b[0m\n\u001b[0m",
      "\u001b[0;31mNameError\u001b[0m: name 'updated' is not defined"
     ]
    }
   ],
   "source": [
    "# positive_indices = tf.constant([1,2], dtype=tf.int32)\n",
    "# a = \n",
    "\n",
    "indices = tf.constant([[4], [3], [1], [7]])\n",
    "updates = tf.constant([0, 0, 0, 0])\n",
    "\n",
    "tensor = tf.ones([8], dtype=tf.int32)\n",
    "mask = tf.tensor_scatter_nd_update(tensor, indices, updates)\n",
    "print(updated)"
   ]
  },
  {
   "cell_type": "code",
   "execution_count": null,
   "metadata": {},
   "outputs": [],
   "source": [
    "indices = tf.constant([[4], [3], [1], [7]])\n",
    "updates = tf.constant([9, 10, 11, 12])\n",
    "tensor = tf.ones([12], dtype=tf.int32)\n",
    "updated = tf.tensor_scatter_nd_add(tensor, indices, updates)\n",
    "print(updated)"
   ]
  },
  {
   "cell_type": "code",
   "execution_count": null,
   "metadata": {},
   "outputs": [],
   "source": []
  },
  {
   "cell_type": "code",
   "execution_count": 20,
   "metadata": {},
   "outputs": [],
   "source": [
    "import tensorflow as tf"
   ]
  },
  {
   "cell_type": "code",
   "execution_count": 21,
   "metadata": {},
   "outputs": [],
   "source": [
    "BS=2\n",
    "N_NEG=3\n",
    "N_DIM=4"
   ]
  },
  {
   "cell_type": "code",
   "execution_count": 22,
   "metadata": {},
   "outputs": [
    {
     "data": {
      "text/plain": [
       "<tf.Tensor: shape=(2, 3, 4), dtype=float32, numpy=\n",
       "array([[[0.12642372, 0.86281705, 0.18977296, 0.64400244],\n",
       "        [0.4894439 , 0.00287366, 0.8316258 , 0.41707337],\n",
       "        [0.46185935, 0.67044675, 0.714906  , 0.87362814]],\n",
       "\n",
       "       [[0.34904468, 0.73694515, 0.02537   , 0.54320323],\n",
       "        [0.84959733, 0.71772206, 0.78677046, 0.6683798 ],\n",
       "        [0.4723971 , 0.58122766, 0.878623  , 0.18785727]]], dtype=float32)>"
      ]
     },
     "execution_count": 22,
     "metadata": {},
     "output_type": "execute_result"
    }
   ],
   "source": [
    "vi = tf.ones((BS, N_DIM))\n",
    "\n",
    "a = tf.ones([BS,N_NEG,N_DIM])\n",
    "negatives = tf.random.uniform([BS,N_NEG,N_DIM])\n",
    "negatives"
   ]
  },
  {
   "cell_type": "code",
   "execution_count": 23,
   "metadata": {},
   "outputs": [],
   "source": [
    "cosine_similarity = tf.keras.losses.CosineSimilarity(reduction=tf.losses.Reduction.NONE, axis=-1)"
   ]
  },
  {
   "cell_type": "code",
   "execution_count": 24,
   "metadata": {},
   "outputs": [
    {
     "data": {
      "text/plain": [
       "<tf.Tensor: shape=(2, 3, 4), dtype=float32, numpy=\n",
       "array([[[0.12642372, 0.86281705, 0.18977296, 0.64400244],\n",
       "        [0.4894439 , 0.00287366, 0.8316258 , 0.41707337],\n",
       "        [0.46185935, 0.67044675, 0.714906  , 0.87362814]],\n",
       "\n",
       "       [[0.34904468, 0.73694515, 0.02537   , 0.54320323],\n",
       "        [0.84959733, 0.71772206, 0.78677046, 0.6683798 ],\n",
       "        [0.4723971 , 0.58122766, 0.878623  , 0.18785727]]], dtype=float32)>"
      ]
     },
     "execution_count": 24,
     "metadata": {},
     "output_type": "execute_result"
    }
   ],
   "source": [
    "negatives"
   ]
  },
  {
   "cell_type": "code",
   "execution_count": 40,
   "metadata": {},
   "outputs": [
    {
     "name": "stdout",
     "output_type": "stream",
     "text": [
      "tf.Tensor(\n",
      "[[[0.12642372 0.86281705 0.18977296 0.64400244]]\n",
      "\n",
      " [[0.34904468 0.73694515 0.02537    0.54320323]]], shape=(2, 1, 4), dtype=float32)\n",
      "---------------\n",
      "tf.Tensor(\n",
      "[[[0.12642372 0.86281705 0.18977296 0.64400244]\n",
      "  [0.4894439  0.00287366 0.8316258  0.41707337]\n",
      "  [0.46185935 0.67044675 0.714906   0.87362814]\n",
      "  [0.34904468 0.73694515 0.02537    0.54320323]\n",
      "  [0.84959733 0.71772206 0.78677046 0.6683798 ]\n",
      "  [0.4723971  0.58122766 0.878623   0.18785727]]], shape=(1, 6, 4), dtype=float32)\n",
      "---------------\n",
      "tf.Tensor(\n",
      "[[-1.0000002  -0.4242004  -0.8716562  -0.9591664  -0.78227496 -0.65945494]\n",
      " [-0.9591664  -0.40822196 -0.84154755 -1.         -0.81254864 -0.6258837 ]], shape=(2, 6), dtype=float32)\n",
      "tf.Tensor([-4.696753 -4.647368], shape=(2,), dtype=float32)\n",
      "---------------\n"
     ]
    }
   ],
   "source": [
    "similatiry = []\n",
    "for vi_prime in tf.transpose(negatives, (1,0,2)):\n",
    "    vi_prime = tf.expand_dims(vi_prime, axis=1)\n",
    "    \n",
    "    negatives_ = tf.expand_dims(tf.reshape(negatives, (-1,N_DIM)), axis=0)\n",
    "    \n",
    "    print(vi_prime)\n",
    "    print(\"---------------\")\n",
    "    print(negatives_)\n",
    "    print(\"---------------\")\n",
    "    s = cosine_similarity(vi_prime, negatives_)\n",
    "    similatiry.append(s)\n",
    "    print(s)\n",
    "    s = tf.reduce_sum(s, axis=1)\n",
    "    print(s)\n",
    "    print(\"---------------\")\n",
    "    break"
   ]
  },
  {
   "cell_type": "code",
   "execution_count": 26,
   "metadata": {},
   "outputs": [],
   "source": [
    "res = cosine_similarity(negatives, negatives)"
   ]
  },
  {
   "cell_type": "code",
   "execution_count": 42,
   "metadata": {},
   "outputs": [
    {
     "data": {
      "text/plain": [
       "<tf.Tensor: shape=(), dtype=float32, numpy=-0.6258837>"
      ]
     },
     "execution_count": 42,
     "metadata": {},
     "output_type": "execute_result"
    }
   ],
   "source": [
    "cosine_similarity([0.34904468, 0.73694515, 0.02537,    0.54320323], \n",
    "                  [0.4723971,  0.58122766, 0.878623,   0.18785727])"
   ]
  },
  {
   "cell_type": "markdown",
   "metadata": {},
   "source": [
    "## MAPFN"
   ]
  },
  {
   "cell_type": "code",
   "execution_count": null,
   "metadata": {},
   "outputs": [],
   "source": [
    "print(negatives.shape)\n",
    "\n",
    "@tf.function\n",
    "def func(vi_prime):\n",
    "    vi_prime = tf.expand_dims(vi_prime, axis=1)\n",
    "    similarity = cosine_similarity(vi_prime, negatives)\n",
    "    return similarity\n",
    "\n",
    "\n",
    "squares = tf.map_fn(func, tf.transpose(negatives, (1,0,2)), parallel_iterations=BS)"
   ]
  },
  {
   "cell_type": "markdown",
   "metadata": {},
   "source": [
    "## UNPACK"
   ]
  },
  {
   "cell_type": "code",
   "execution_count": null,
   "metadata": {},
   "outputs": [],
   "source": [
    "tf.unstack(tf.transpose(negatives, (1,0,2)))"
   ]
  }
 ],
 "metadata": {
  "kernelspec": {
   "display_name": "tf2.0",
   "language": "python",
   "name": "tf2.0"
  },
  "language_info": {
   "codemirror_mode": {
    "name": "ipython",
    "version": 3
   },
   "file_extension": ".py",
   "mimetype": "text/x-python",
   "name": "python",
   "nbconvert_exporter": "python",
   "pygments_lexer": "ipython3",
   "version": "3.6.8"
  }
 },
 "nbformat": 4,
 "nbformat_minor": 2
}
