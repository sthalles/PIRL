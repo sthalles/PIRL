{
 "cells": [
  {
   "cell_type": "code",
   "execution_count": 1,
   "metadata": {},
   "outputs": [],
   "source": [
    "import numpy as np\n",
    "import tensorflow as tf\n",
    "from tensorflow.keras.datasets import cifar10\n",
    "import matplotlib.pyplot as plt\n",
    "from sklearn.model_selection import train_test_split\n",
    "from sklearn.linear_model import LogisticRegression\n",
    "from models import CNN\n",
    "from sklearn import preprocessing"
   ]
  },
  {
   "cell_type": "code",
   "execution_count": 2,
   "metadata": {},
   "outputs": [
    {
     "name": "stdout",
     "output_type": "stream",
     "text": [
      "0 255\n"
     ]
    }
   ],
   "source": [
    "# The data, split between train and test sets:\n",
    "(_, _), (X, y) = cifar10.load_data()\n",
    "print(np.min(X), np.max(X))\n",
    "X = X.astype(np.float32)"
   ]
  },
  {
   "cell_type": "code",
   "execution_count": 3,
   "metadata": {},
   "outputs": [],
   "source": [
    "X_train, X_test, y_train, y_test = train_test_split(X, y, test_size=0.2, random_state=42)"
   ]
  },
  {
   "cell_type": "markdown",
   "metadata": {},
   "source": [
    "## Baseline"
   ]
  },
  {
   "cell_type": "code",
   "execution_count": 4,
   "metadata": {},
   "outputs": [
    {
     "name": "stderr",
     "output_type": "stream",
     "text": [
      "/home/thalles/anaconda3/envs/tf2_cpu/lib/python3.6/site-packages/sklearn/linear_model/_logistic.py:940: ConvergenceWarning: lbfgs failed to converge (status=1):\n",
      "STOP: TOTAL NO. of ITERATIONS REACHED LIMIT.\n",
      "\n",
      "Increase the number of iterations (max_iter) or scale the data as shown in:\n",
      "    https://scikit-learn.org/stable/modules/preprocessing.html\n",
      "Please also refer to the documentation for alternative solver options:\n",
      "    https://scikit-learn.org/stable/modules/linear_model.html#logistic-regression\n",
      "  extra_warning_msg=_LOGISTIC_SOLVER_CONVERGENCE_MSG)\n"
     ]
    },
    {
     "data": {
      "text/plain": [
       "LogisticRegression(C=1.0, class_weight=None, dual=False, fit_intercept=True,\n",
       "                   intercept_scaling=1, l1_ratio=None, max_iter=100,\n",
       "                   multi_class='auto', n_jobs=None, penalty='l2',\n",
       "                   random_state=0, solver='lbfgs', tol=0.0001, verbose=0,\n",
       "                   warm_start=False)"
      ]
     },
     "execution_count": 4,
     "metadata": {},
     "output_type": "execute_result"
    }
   ],
   "source": [
    "clf = LogisticRegression(random_state=0, solver='lbfgs', multi_class='auto')\n",
    "clf.fit(np.reshape(X_train, (X_train.shape[0], -1)), y_train.squeeze())"
   ]
  },
  {
   "cell_type": "code",
   "execution_count": 5,
   "metadata": {},
   "outputs": [
    {
     "name": "stdout",
     "output_type": "stream",
     "text": [
      "Train score: 0.4815 Test score: 0.388\n"
     ]
    }
   ],
   "source": [
    "print(\"Train score:\", clf.score(np.reshape(X_train,(X_train.shape[0], -1)), y_train),\n",
    "      \"Test score:\", clf.score(np.reshape(X_test,(X_test.shape[0], -1)), y_test))"
   ]
  },
  {
   "cell_type": "markdown",
   "metadata": {},
   "source": [
    "## Self-Supervised pre-training"
   ]
  },
  {
   "cell_type": "code",
   "execution_count": 16,
   "metadata": {},
   "outputs": [],
   "source": [
    "encoder = CNN(X.shape[1:])\n",
    "\n",
    "_ = encoder(np.random.rand(1,32,32,3).astype(np.float32), head='f')\n",
    "encoder.load_weights('encoder.h5')"
   ]
  },
  {
   "cell_type": "code",
   "execution_count": 17,
   "metadata": {},
   "outputs": [
    {
     "name": "stdout",
     "output_type": "stream",
     "text": [
      "(8000, 128)\n",
      "(2000, 128)\n"
     ]
    }
   ],
   "source": [
    "X_train_repr, _ = encoder(tf.cast(X_train, tf.float32) / 255, head=tf.constant('f'), training=tf.constant(True))\n",
    "X_test_repr, _ = encoder(tf.cast(X_test, tf.float32) / 255, head=tf.constant('f'), training=tf.constant(True))\n",
    "print(X_train_repr.shape)\n",
    "print(X_test_repr.shape)"
   ]
  },
  {
   "cell_type": "code",
   "execution_count": 18,
   "metadata": {},
   "outputs": [],
   "source": [
    "scaler = preprocessing.StandardScaler().fit(X_train_repr)\n",
    "X_train_repr = scaler.transform(X_train_repr)\n",
    "X_test_repr = scaler.transform(X_test_repr)"
   ]
  },
  {
   "cell_type": "code",
   "execution_count": 19,
   "metadata": {},
   "outputs": [
    {
     "data": {
      "text/plain": [
       "LogisticRegression(C=1.0, class_weight=None, dual=False, fit_intercept=True,\n",
       "                   intercept_scaling=1, l1_ratio=None, max_iter=400,\n",
       "                   multi_class='auto', n_jobs=None, penalty='l2',\n",
       "                   random_state=0, solver='lbfgs', tol=0.0001, verbose=0,\n",
       "                   warm_start=False)"
      ]
     },
     "execution_count": 19,
     "metadata": {},
     "output_type": "execute_result"
    }
   ],
   "source": [
    "clf = LogisticRegression(random_state=0, max_iter=400, solver='lbfgs', multi_class='auto')\n",
    "clf.fit(X_train_repr, y_train.squeeze())"
   ]
  },
  {
   "cell_type": "code",
   "execution_count": 20,
   "metadata": {},
   "outputs": [
    {
     "name": "stdout",
     "output_type": "stream",
     "text": [
      "Train score: 0.535625 Test score: 0.4845\n"
     ]
    }
   ],
   "source": [
    "print(\"Train score:\", clf.score(X_train_repr, y_train.squeeze()), \n",
    "      \"Test score:\", clf.score(X_test_repr, y_test.squeeze()))\n",
    "# 0.48 0.4665\n",
    "# 0.535625 0.4845"
   ]
  },
  {
   "cell_type": "code",
   "execution_count": 27,
   "metadata": {},
   "outputs": [
    {
     "data": {
      "text/plain": [
       "array([-0.37765293, -0.92383405, -0.39135401, -1.90587745, -0.76886962,\n",
       "       -1.06943286, -1.90403927,  1.54002992,  0.5396932 , -1.89237322,\n",
       "        0.42027098,  0.14679922,  1.10647133,  0.22912532,  0.42709396,\n",
       "       -1.06653007,  0.91075103,  1.53576994,  0.67946346,  0.17315402,\n",
       "        0.01829583, -1.5869501 ,  1.06517901, -0.64780397,  1.07280761,\n",
       "        0.34147313,  0.48160639, -1.63410068,  0.89358239,  0.83097523,\n",
       "       -0.53191131,  0.81667875,  1.3841633 ,  0.58478835,  0.32239908,\n",
       "       -0.70002947, -1.02977837,  0.56867551,  0.24990124,  0.00491053,\n",
       "        1.13006976, -0.12291443,  0.15300392,  1.27191148, -1.80499874,\n",
       "        0.36670888,  0.86174949, -1.67797498, -0.10358804,  0.53962909,\n",
       "        1.20510989,  0.86933059, -0.1888454 , -0.10308279,  0.40721795,\n",
       "        0.16172992, -1.25090833, -1.49952047,  1.36467481,  1.00254179,\n",
       "        3.05896151, -1.33697104, -1.51215692,  1.56566767,  0.76382132,\n",
       "       -0.53556993,  1.1519878 , -0.3383312 ,  1.48576834, -0.14970085,\n",
       "        1.17592885, -0.23215346, -0.13654698,  1.41580996, -1.32454666,\n",
       "        1.41610063,  1.49391708,  0.34207119, -0.81232848,  0.87419825,\n",
       "        0.91452625,  2.90380979,  1.77511158,  1.83299052, -0.42691151,\n",
       "        0.99959811,  0.36712161,  0.09219956, -0.57018966, -1.06861234,\n",
       "        1.98605111, -0.53450276,  1.64811251, -0.42479149, -0.38702177,\n",
       "       -0.18255582, -1.62636831,  0.36368325, -0.70797904, -0.56164455,\n",
       "        0.26408806,  1.61051122,  1.10615008, -0.91364   ,  0.36060901,\n",
       "        0.95549267,  0.30860037,  0.93783285,  0.76705996, -0.94370947,\n",
       "        1.11245758,  0.81897802, -0.79731713,  0.30971273, -0.07420269,\n",
       "       -1.44729073,  0.35627   ,  1.37251909,  0.04930636,  0.19880521,\n",
       "        1.92405842,  0.22275854,  0.17969701,  1.64328623,  0.34300546,\n",
       "        1.31486486, -0.42810897, -1.00369849])"
      ]
     },
     "execution_count": 27,
     "metadata": {},
     "output_type": "execute_result"
    }
   ],
   "source": [
    "X_train_repr[0]"
   ]
  },
  {
   "cell_type": "code",
   "execution_count": 28,
   "metadata": {},
   "outputs": [
    {
     "data": {
      "text/plain": [
       "array([ 0.54960487,  0.67142471,  0.75946356, -0.66662573, -0.62567317,\n",
       "        0.06094651, -0.37754752,  1.05923749, -1.0497831 , -0.74649929,\n",
       "       -1.23877766,  1.08253991, -0.73533258,  0.35930499, -1.58648417,\n",
       "       -0.79346567, -0.8481571 , -1.34944483,  0.61128455, -0.98195157,\n",
       "        0.64961822,  0.24504072,  0.57136437, -0.32020988,  0.70904721,\n",
       "       -0.49679625, -0.75269952, -0.87528692, -0.52843575, -1.24959443,\n",
       "       -1.61731338, -0.52522851, -0.72850269, -1.04403133, -0.72582524,\n",
       "       -2.220887  ,  0.8189236 ,  0.0620662 , -0.19464831, -0.44123941,\n",
       "       -0.27732619, -0.91661297,  0.76273006, -0.10098966, -0.29651671,\n",
       "        1.14429407,  0.79631883, -0.65430836,  1.33480394,  0.73976173,\n",
       "        0.15260173,  1.15185808,  0.5616953 , -0.87306262,  1.57672168,\n",
       "        0.7067896 , -0.09371897,  1.32885775,  0.20848414,  0.59275354,\n",
       "       -0.66161159, -0.45653788,  0.380195  , -0.97456859, -0.71608543,\n",
       "        1.0924213 ,  0.36174243,  0.2515606 , -0.52120185, -0.23635291,\n",
       "        0.00539139,  0.94766415, -0.10060135, -1.51410507,  1.13157274,\n",
       "       -0.00762571,  0.16101835,  0.08079379, -0.39603823, -0.59565824,\n",
       "       -1.68153834, -0.64427621, -1.10101944, -0.6990093 ,  0.26109141,\n",
       "       -0.24579924, -0.76015052, -1.51194997, -0.99120387, -1.03321772,\n",
       "       -0.68423864, -0.3096289 ,  0.77780311, -0.67392811, -1.19069688,\n",
       "       -0.24255198, -0.98987914,  1.02960975, -0.25760174, -0.07796638,\n",
       "       -0.57579199, -0.99559716,  0.36806117, -0.20478774, -0.09767982,\n",
       "       -0.19422201, -1.50506369, -1.28568396, -0.8839436 , -1.47323973,\n",
       "       -0.22704019,  0.9963985 , -0.98631581, -0.67410698, -0.3314941 ,\n",
       "        0.78241648, -0.71765321,  1.65173423, -0.52721786, -0.85263362,\n",
       "       -1.41756613,  1.24273546, -0.59299796, -1.33491968,  1.13561953,\n",
       "       -1.22817441,  0.30392274, -1.62805336])"
      ]
     },
     "execution_count": 28,
     "metadata": {},
     "output_type": "execute_result"
    }
   ],
   "source": [
    "X_test_repr[0]"
   ]
  },
  {
   "cell_type": "code",
   "execution_count": 13,
   "metadata": {},
   "outputs": [
    {
     "name": "stdout",
     "output_type": "stream",
     "text": [
      "Loss:  -0.8535534\n"
     ]
    }
   ],
   "source": [
    "cosine_loss = tf.keras.losses.CosineSimilarity(axis=1)\n",
    "loss = cosine_loss([[0.0001, 1], [1., 1]], [[0.0002, 1], [0., 1]])\n",
    "\n",
    "print('Loss: ', loss.numpy())  # Loss: 0.5"
   ]
  },
  {
   "cell_type": "code",
   "execution_count": 14,
   "metadata": {},
   "outputs": [
    {
     "name": "stdout",
     "output_type": "stream",
     "text": [
      "tf.Tensor(0, shape=(), dtype=int32)\n"
     ]
    }
   ],
   "source": [
    "a = tf.convert_to_tensor([1,6,5], dtype=tf.int32)\n",
    "b = tf.convert_to_tensor([4,3,2], dtype=tf.int32)\n",
    "res = tf.sets.intersection(a[None,:],b[None,:])\n",
    "print(tf.size(res))"
   ]
  },
  {
   "cell_type": "code",
   "execution_count": 15,
   "metadata": {},
   "outputs": [
    {
     "name": "stdout",
     "output_type": "stream",
     "text": [
      "[0.99999994 0.99999994]\n"
     ]
    }
   ],
   "source": [
    "a = np.array([28.171087, 30.802778], dtype=np.float32)\n",
    "b = np.array([2.2323670e-06, 2.1488113e-06], dtype=np.float32)\n",
    "\n",
    "print(a / (a+b))"
   ]
  },
  {
   "cell_type": "code",
   "execution_count": 16,
   "metadata": {},
   "outputs": [
    {
     "data": {
      "text/plain": [
       "<tf.Tensor: id=1539, shape=(1, 5), dtype=int64, numpy=array([[0, 1, 1, 0, 1]])>"
      ]
     },
     "execution_count": 16,
     "metadata": {},
     "output_type": "execute_result"
    }
   ],
   "source": [
    "samples = tf.random.categorical(tf.math.log([[0.5, 0.5]]), 5)\n",
    "samples"
   ]
  },
  {
   "cell_type": "code",
   "execution_count": 17,
   "metadata": {},
   "outputs": [
    {
     "name": "stdout",
     "output_type": "stream",
     "text": [
      "tf.Tensor([1 0 1 1 0 1 1 1 1 1], shape=(10,), dtype=int32)\n"
     ]
    }
   ],
   "source": [
    "shape = (10,8)\n",
    "\n",
    "positive_indices = tf.constant([[1], [4]])\n",
    "positive_indices_mask = tf.zeros_like(positive_indices.shape)\n",
    "\n",
    "mask = tf.ones([shape[0]], dtype=tf.int32)\n",
    "mask = tf.tensor_scatter_nd_update(mask, positive_indices, positive_indices_mask)\n",
    "print(mask)"
   ]
  },
  {
   "cell_type": "code",
   "execution_count": 18,
   "metadata": {},
   "outputs": [
    {
     "name": "stdout",
     "output_type": "stream",
     "text": [
      "tf.Tensor([0.125 0.    0.125 0.125 0.    0.125 0.125 0.125 0.125 0.125], shape=(10,), dtype=float32)\n",
      "tf.Tensor([[8 0 9 ... 3 9 0]], shape=(1, 5000), dtype=int64)\n"
     ]
    }
   ],
   "source": [
    "p = tf.ones(shape[0])\n",
    "p = p * tf.cast(mask, tf.float32)\n",
    "p = p / tf.reduce_sum(p)\n",
    "print(p)\n",
    "\n",
    "candidate_negative_indices = tf.random.categorical(tf.math.log(tf.reshape(p, (1,-1))), 5000) # note log-prob\n",
    "print(candidate_negative_indices)"
   ]
  },
  {
   "cell_type": "code",
   "execution_count": 19,
   "metadata": {},
   "outputs": [
    {
     "data": {
      "text/plain": [
       "(array([613.,   0., 558., 636.,   0., 643., 601., 650., 636., 663.]),\n",
       " array([0. , 0.9, 1.8, 2.7, 3.6, 4.5, 5.4, 6.3, 7.2, 8.1, 9. ]),\n",
       " <a list of 10 Patch objects>)"
      ]
     },
     "execution_count": 19,
     "metadata": {},
     "output_type": "execute_result"
    },
    {
     "data": {
      "image/png": "[encoded data removed]",
      "text/plain": [
       "<Figure size 432x288 with 1 Axes>"
      ]
     },
     "metadata": {
      "needs_background": "light"
     },
     "output_type": "display_data"
    }
   ],
   "source": [
    "plt.hist(candidate_negative_indices)"
   ]
  },
  {
   "cell_type": "code",
   "execution_count": 20,
   "metadata": {},
   "outputs": [
    {
     "ename": "NameError",
     "evalue": "name 'updated' is not defined",
     "output_type": "error",
     "traceback": [
      "\u001b[0;31m---------------------------------------------------------------------------\u001b[0m",
      "\u001b[0;31mNameError\u001b[0m                                 Traceback (most recent call last)",
      "\u001b[0;32m<ipython-input-20-e42a85a48d92>\u001b[0m in \u001b[0;36m<module>\u001b[0;34m\u001b[0m\n\u001b[1;32m      7\u001b[0m \u001b[0mtensor\u001b[0m \u001b[0;34m=\u001b[0m \u001b[0mtf\u001b[0m\u001b[0;34m.\u001b[0m\u001b[0mones\u001b[0m\u001b[0;34m(\u001b[0m\u001b[0;34m[\u001b[0m\u001b[0;36m8\u001b[0m\u001b[0;34m]\u001b[0m\u001b[0;34m,\u001b[0m \u001b[0mdtype\u001b[0m\u001b[0;34m=\u001b[0m\u001b[0mtf\u001b[0m\u001b[0;34m.\u001b[0m\u001b[0mint32\u001b[0m\u001b[0;34m)\u001b[0m\u001b[0;34m\u001b[0m\u001b[0;34m\u001b[0m\u001b[0m\n\u001b[1;32m      8\u001b[0m \u001b[0mmask\u001b[0m \u001b[0;34m=\u001b[0m \u001b[0mtf\u001b[0m\u001b[0;34m.\u001b[0m\u001b[0mtensor_scatter_nd_update\u001b[0m\u001b[0;34m(\u001b[0m\u001b[0mtensor\u001b[0m\u001b[0;34m,\u001b[0m \u001b[0mindices\u001b[0m\u001b[0;34m,\u001b[0m \u001b[0mupdates\u001b[0m\u001b[0;34m)\u001b[0m\u001b[0;34m\u001b[0m\u001b[0;34m\u001b[0m\u001b[0m\n\u001b[0;32m----> 9\u001b[0;31m \u001b[0mprint\u001b[0m\u001b[0;34m(\u001b[0m\u001b[0mupdated\u001b[0m\u001b[0;34m)\u001b[0m\u001b[0;34m\u001b[0m\u001b[0;34m\u001b[0m\u001b[0m\n\u001b[0m",
      "\u001b[0;31mNameError\u001b[0m: name 'updated' is not defined"
     ]
    }
   ],
   "source": [
    "# positive_indices = tf.constant([1,2], dtype=tf.int32)\n",
    "# a = \n",
    "\n",
    "indices = tf.constant([[4], [3], [1], [7]])\n",
    "updates = tf.constant([0, 0, 0, 0])\n",
    "\n",
    "tensor = tf.ones([8], dtype=tf.int32)\n",
    "mask = tf.tensor_scatter_nd_update(tensor, indices, updates)\n",
    "print(updated)"
   ]
  },
  {
   "cell_type": "code",
   "execution_count": null,
   "metadata": {},
   "outputs": [],
   "source": [
    "indices = tf.constant([[4], [3], [1], [7]])\n",
    "updates = tf.constant([9, 10, 11, 12])\n",
    "tensor = tf.ones([12], dtype=tf.int32)\n",
    "updated = tf.tensor_scatter_nd_add(tensor, indices, updates)\n",
    "print(updated)"
   ]
  },
  {
   "cell_type": "code",
   "execution_count": null,
   "metadata": {},
   "outputs": [],
   "source": []
  },
  {
   "cell_type": "code",
   "execution_count": null,
   "metadata": {},
   "outputs": [],
   "source": [
    "import tensorflow as tf"
   ]
  },
  {
   "cell_type": "code",
   "execution_count": null,
   "metadata": {},
   "outputs": [],
   "source": [
    "BS=2\n",
    "N_NEG=3\n",
    "N_DIM=4"
   ]
  },
  {
   "cell_type": "code",
   "execution_count": null,
   "metadata": {},
   "outputs": [],
   "source": [
    "vi = tf.ones((BS, N_DIM))\n",
    "\n",
    "a = tf.ones([BS,N_NEG,N_DIM])\n",
    "negatives = tf.random.uniform([BS,N_NEG,N_DIM])\n",
    "negatives"
   ]
  },
  {
   "cell_type": "code",
   "execution_count": null,
   "metadata": {},
   "outputs": [],
   "source": [
    "cosine_similarity = tf.keras.losses.CosineSimilarity(reduction=tf.losses.Reduction.NONE, axis=-1)"
   ]
  },
  {
   "cell_type": "code",
   "execution_count": null,
   "metadata": {},
   "outputs": [],
   "source": [
    "negatives"
   ]
  },
  {
   "cell_type": "code",
   "execution_count": null,
   "metadata": {},
   "outputs": [],
   "source": [
    "similatiry = []\n",
    "for vi_prime in tf.transpose(negatives, (1,0,2)):\n",
    "    vi_prime = tf.expand_dims(vi_prime, axis=1)\n",
    "    \n",
    "    negatives_ = tf.expand_dims(tf.reshape(negatives, (-1,N_DIM)), axis=0)\n",
    "    \n",
    "    print(vi_prime)\n",
    "    print(\"---------------\")\n",
    "#     print(negatives_)\n",
    "#     print(\"---------------\")\n",
    "    s = cosine_similarity(vi_prime, negatives_)\n",
    "    similatiry.append(s)\n",
    "    print(s)\n",
    "    s = tf.reduce_sum(s, axis=1)\n",
    "#     print(s)\n",
    "    print(\"---------------\")\n",
    "    print(\"---------------\")\n",
    "\n",
    "#     break"
   ]
  },
  {
   "cell_type": "code",
   "execution_count": null,
   "metadata": {},
   "outputs": [],
   "source": [
    "res = cosine_similarity(negatives, negatives)"
   ]
  },
  {
   "cell_type": "code",
   "execution_count": null,
   "metadata": {},
   "outputs": [],
   "source": [
    "cosine_similarity([0.34904468, 0.73694515, 0.02537,    0.54320323], \n",
    "                  [0.4723971,  0.58122766, 0.878623,   0.18785727])"
   ]
  },
  {
   "cell_type": "markdown",
   "metadata": {},
   "source": [
    "## MAPFN"
   ]
  },
  {
   "cell_type": "code",
   "execution_count": null,
   "metadata": {},
   "outputs": [],
   "source": [
    "print(negatives.shape)\n",
    "\n",
    "@tf.function\n",
    "def func(vi_prime):\n",
    "    vi_prime = tf.expand_dims(vi_prime, axis=1)\n",
    "    similarity = cosine_similarity(vi_prime, negatives)\n",
    "    return similarity\n",
    "\n",
    "\n",
    "squares = tf.map_fn(func, tf.transpose(negatives, (1,0,2)), parallel_iterations=BS)"
   ]
  },
  {
   "cell_type": "markdown",
   "metadata": {},
   "source": [
    "## UNPACK"
   ]
  },
  {
   "cell_type": "code",
   "execution_count": null,
   "metadata": {},
   "outputs": [],
   "source": [
    "tf.unstack(tf.transpose(negatives, (1,0,2)))"
   ]
  }
 ],
 "metadata": {
  "kernelspec": {
   "display_name": "tf2_cpu",
   "language": "python",
   "name": "tf2_cpu"
  },
  "language_info": {
   "codemirror_mode": {
    "name": "ipython",
    "version": 3
   },
   "file_extension": ".py",
   "mimetype": "text/x-python",
   "name": "python",
   "nbconvert_exporter": "python",
   "pygments_lexer": "ipython3",
   "version": "3.6.10"
  }
 },
 "nbformat": 4,
 "nbformat_minor": 2
}
