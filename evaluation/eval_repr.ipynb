{
 "cells": [
  {
   "cell_type": "code",
   "execution_count": 1,
   "metadata": {},
   "outputs": [],
   "source": [
    "import numpy as np\n",
    "import tensorflow as tf\n",
    "from tensorflow.keras.datasets import cifar10\n",
    "import matplotlib.pyplot as plt\n",
    "from sklearn.model_selection import train_test_split\n",
    "from sklearn.linear_model import LogisticRegression\n",
    "from models import CNN\n",
    "from sklearn import preprocessing"
   ]
  },
  {
   "cell_type": "code",
   "execution_count": 2,
   "metadata": {},
   "outputs": [
    {
     "name": "stdout",
     "output_type": "stream",
     "text": [
      "0 255\n"
     ]
    }
   ],
   "source": [
    "# The data, split between train and test sets:\n",
    "(_, _), (X, y) = cifar10.load_data()\n",
    "print(np.min(X), np.max(X))\n",
    "X = X.astype(np.float32)"
   ]
  },
  {
   "cell_type": "code",
   "execution_count": 3,
   "metadata": {},
   "outputs": [],
   "source": [
    "X_train, X_test, y_train, y_test = train_test_split(X, y, test_size=0.2, random_state=42)"
   ]
  },
  {
   "cell_type": "markdown",
   "metadata": {},
   "source": [
    "## Baseline"
   ]
  },
  {
   "cell_type": "code",
   "execution_count": 4,
   "metadata": {},
   "outputs": [
    {
     "name": "stderr",
     "output_type": "stream",
     "text": [
      "/home/thallessilva/anaconda3/envs/tf2.0/lib/python3.6/site-packages/sklearn/linear_model/logistic.py:947: ConvergenceWarning: lbfgs failed to converge. Increase the number of iterations.\n",
      "  \"of iterations.\", ConvergenceWarning)\n"
     ]
    },
    {
     "data": {
      "text/plain": [
       "LogisticRegression(C=1.0, class_weight=None, dual=False, fit_intercept=True,\n",
       "                   intercept_scaling=1, l1_ratio=None, max_iter=100,\n",
       "                   multi_class='auto', n_jobs=None, penalty='l2',\n",
       "                   random_state=0, solver='lbfgs', tol=0.0001, verbose=0,\n",
       "                   warm_start=False)"
      ]
     },
     "execution_count": 4,
     "metadata": {},
     "output_type": "execute_result"
    }
   ],
   "source": [
    "clf = LogisticRegression(random_state=0, solver='lbfgs', multi_class='auto')\n",
    "clf.fit(np.reshape(X_train, (X_train.shape[0], -1)), y_train.squeeze())"
   ]
  },
  {
   "cell_type": "code",
   "execution_count": 5,
   "metadata": {},
   "outputs": [
    {
     "name": "stdout",
     "output_type": "stream",
     "text": [
      "Train score: 0.4815 Test score: 0.388\n"
     ]
    }
   ],
   "source": [
    "print(\"Train score:\", clf.score(np.reshape(X_train,(X_train.shape[0], -1)), y_train),\n",
    "      \"Test score:\", clf.score(np.reshape(X_test,(X_test.shape[0], -1)), y_test))"
   ]
  },
  {
   "cell_type": "markdown",
   "metadata": {},
   "source": [
    "## Self-Supervised pre-training"
   ]
  },
  {
   "cell_type": "code",
   "execution_count": 6,
   "metadata": {},
   "outputs": [],
   "source": [
    "encoder = CNN(X.shape[1:])\n",
    "\n",
    "_ = encoder(np.random.rand(1,32,32,3).astype(np.float32), head='f')\n",
    "encoder.load_weights('encoder.h5')"
   ]
  },
  {
   "cell_type": "code",
   "execution_count": 7,
   "metadata": {},
   "outputs": [
    {
     "name": "stdout",
     "output_type": "stream",
     "text": [
      "(8000, 128)\n",
      "(2000, 128)\n"
     ]
    }
   ],
   "source": [
    "X_train_repr, _ = encoder(tf.cast(X_train, tf.float32) / 255, head=tf.constant('f'), training=tf.constant(True))\n",
    "X_test_repr, _ = encoder(tf.cast(X_test, tf.float32) / 255, head=tf.constant('f'), training=tf.constant(True))\n",
    "print(X_train_repr.shape)\n",
    "print(X_test_repr.shape)"
   ]
  },
  {
   "cell_type": "code",
   "execution_count": 8,
   "metadata": {},
   "outputs": [],
   "source": [
    "scaler = preprocessing.StandardScaler().fit(X_train_repr)\n",
    "X_train_repr = scaler.transform(X_train_repr)\n",
    "X_test_repr = scaler.transform(X_test_repr)"
   ]
  },
  {
   "cell_type": "code",
   "execution_count": 9,
   "metadata": {},
   "outputs": [
    {
     "data": {
      "text/plain": [
       "LogisticRegression(C=1.0, class_weight=None, dual=False, fit_intercept=True,\n",
       "                   intercept_scaling=1, l1_ratio=None, max_iter=400,\n",
       "                   multi_class='auto', n_jobs=None, penalty='l2',\n",
       "                   random_state=0, solver='lbfgs', tol=0.0001, verbose=0,\n",
       "                   warm_start=False)"
      ]
     },
     "execution_count": 9,
     "metadata": {},
     "output_type": "execute_result"
    }
   ],
   "source": [
    "clf = LogisticRegression(random_state=0, max_iter=400, solver='lbfgs', multi_class='auto')\n",
    "clf.fit(X_train_repr, y_train.squeeze())"
   ]
  },
  {
   "cell_type": "code",
   "execution_count": 10,
   "metadata": {},
   "outputs": [
    {
     "name": "stdout",
     "output_type": "stream",
     "text": [
      "Train score: 0.535375 Test score: 0.485\n"
     ]
    }
   ],
   "source": [
    "print(\"Train score:\", clf.score(X_train_repr, y_train.squeeze()), \n",
    "      \"Test score:\", clf.score(X_test_repr, y_test.squeeze()))\n",
    "# 0.48 0.4665\n",
    "# 0.535625 0.4845"
   ]
  },
  {
   "cell_type": "code",
   "execution_count": 11,
   "metadata": {},
   "outputs": [
    {
     "data": {
      "text/plain": [
       "array([ 0.24765692,  0.48807445,  0.80008323, -1.46848573, -1.65292221,\n",
       "       -0.28791315, -2.22304205, -1.00856505,  0.09216471,  1.57575346,\n",
       "        2.42312649,  0.85931254,  0.43564491,  1.08396145,  0.83162543,\n",
       "        1.83376172,  0.58390826,  1.01017468,  0.87828961, -1.09968581,\n",
       "       -1.32704817, -0.92708113,  0.35305252,  1.98763547,  0.19264504,\n",
       "        0.49739264, -0.58671179,  0.89052145, -1.86946512, -1.63912472,\n",
       "       -0.6520581 , -1.54943105,  1.26395828, -0.49712884,  0.3715303 ,\n",
       "       -0.25748842,  0.96900548, -0.68331432,  0.60551037, -0.63490339,\n",
       "       -1.89878219,  1.97336738,  0.64108109,  0.77657956,  1.29640802,\n",
       "        0.77359414,  0.27850744,  1.39732481,  0.11255056,  0.35475747,\n",
       "       -0.7517918 ,  0.36773391, -1.16205979,  1.65003101,  0.4108299 ,\n",
       "        0.30765118, -1.09517514, -0.13851952,  0.68586   ,  1.61682975,\n",
       "        1.02957501,  0.10707549, -0.40448586, -0.28925389,  1.4740915 ,\n",
       "        2.52552509, -0.76132749, -0.14276601,  0.23660545, -0.07747634,\n",
       "        0.59044812, -0.68605521,  1.37958466,  1.0475452 ,  2.27297427,\n",
       "        2.00080266, -1.34382976, -1.08272044, -0.6402758 ,  2.03361295,\n",
       "        2.50103516, -0.67519241, -0.0788914 ,  0.20493398,  1.3946785 ,\n",
       "       -0.30734023, -1.21780219,  0.26915527,  0.21266141,  1.63060321,\n",
       "       -2.0442715 ,  0.85585453,  0.17927103,  0.09943635,  1.08455083,\n",
       "        0.07906273,  0.20429677,  1.06529641, -1.35072656,  1.80845247,\n",
       "       -0.07611584,  1.1195959 ,  0.09859949,  0.84117659,  0.91802471,\n",
       "       -2.26762248,  0.33300907,  1.14374308,  0.82097006, -1.72706791,\n",
       "        0.84441119,  0.75602206,  1.36244238,  2.05649337,  1.88709648,\n",
       "        0.88667853, -1.45633389,  0.88794061, -0.51741059,  0.68368058,\n",
       "        0.41126237,  1.3204024 , -0.86974164,  1.11942015,  1.07539929,\n",
       "        0.39742571, -1.15134703, -0.01323445])"
      ]
     },
     "execution_count": 11,
     "metadata": {},
     "output_type": "execute_result"
    }
   ],
   "source": [
    "X_train_repr[0]"
   ]
  },
  {
   "cell_type": "code",
   "execution_count": 12,
   "metadata": {},
   "outputs": [
    {
     "data": {
      "text/plain": [
       "array([ 0.83533231, -0.62874685, -1.73612786,  0.56982475,  0.46408554,\n",
       "       -0.00393243, -0.44353533, -0.97161604,  0.6698375 , -0.11615772,\n",
       "       -0.41558809, -0.04561542, -1.34159379,  0.83971546, -0.26731173,\n",
       "       -0.14380815,  0.70098551,  0.62076779, -0.21610198, -1.72556252,\n",
       "       -0.05454968,  0.38434535,  0.73152347, -0.50915712, -0.60751497,\n",
       "       -0.31295509, -1.18616316,  1.29658752,  0.77081006,  0.01899596,\n",
       "       -0.72931843,  0.01378072, -0.04822996, -0.65922778, -1.37032752,\n",
       "       -1.04392254, -0.51888498,  0.00313381, -0.00562719, -0.60408604,\n",
       "       -0.80961238,  0.10115419, -0.72532121,  0.48696138, -0.16029394,\n",
       "        0.07995218,  1.25768891, -2.31524315,  0.31335911, -0.15823462,\n",
       "       -1.00387482, -1.30940597,  0.83280196,  0.16688541, -1.88395379,\n",
       "        0.03590128, -0.2333331 ,  1.07079794, -0.54597095, -1.53042527,\n",
       "       -0.37795683,  0.01109873, -0.24566415, -1.42870517,  0.1076606 ,\n",
       "       -0.83840028, -0.90897512, -0.33417022, -0.1043001 , -0.35486765,\n",
       "       -0.09652718, -1.88242538, -0.89511015, -0.58521058, -1.28683386,\n",
       "       -0.07600561,  0.52644597,  1.09380133,  0.3113064 , -1.15408529,\n",
       "       -1.27749176, -1.32061033,  0.23689539, -1.2417726 , -0.33824631,\n",
       "       -0.39269052,  0.20549388, -0.94968023, -0.54887576, -0.80142108,\n",
       "        0.51326784, -1.72785409,  0.43381167, -0.31175302, -0.46729304,\n",
       "       -0.79607721, -1.62726614, -0.64185332,  0.46772252, -1.36310565,\n",
       "       -1.17758488, -0.06245013, -1.30449685, -0.27523325,  0.55683268,\n",
       "        0.84452371, -0.93846007, -1.46224003, -1.26049156, -0.27752481,\n",
       "       -0.13689961, -0.92540822,  0.61194623, -0.9178081 ,  0.27349448,\n",
       "       -0.99327682,  0.06750837, -1.22422593,  0.20940109,  0.79903498,\n",
       "       -0.35728044,  0.13829165, -0.78897301, -0.67378435, -0.56253304,\n",
       "       -0.77958771, -0.33730336, -0.48448089])"
      ]
     },
     "execution_count": 12,
     "metadata": {},
     "output_type": "execute_result"
    }
   ],
   "source": [
    "X_test_repr[0]"
   ]
  },
  {
   "cell_type": "code",
   "execution_count": 13,
   "metadata": {},
   "outputs": [
    {
     "name": "stdout",
     "output_type": "stream",
     "text": [
      "Loss:  -0.8535534\n"
     ]
    }
   ],
   "source": [
    "cosine_loss = tf.keras.losses.CosineSimilarity(axis=1)\n",
    "loss = cosine_loss([[0.0001, 1], [1., 1]], [[0.0002, 1], [0., 1]])\n",
    "\n",
    "print('Loss: ', loss.numpy())  # Loss: 0.5"
   ]
  },
  {
   "cell_type": "code",
   "execution_count": 14,
   "metadata": {},
   "outputs": [
    {
     "name": "stdout",
     "output_type": "stream",
     "text": [
      "tf.Tensor(0, shape=(), dtype=int32)\n"
     ]
    }
   ],
   "source": [
    "a = tf.convert_to_tensor([1,6,5], dtype=tf.int32)\n",
    "b = tf.convert_to_tensor([4,3,2], dtype=tf.int32)\n",
    "res = tf.sets.intersection(a[None,:],b[None,:])\n",
    "print(tf.size(res))"
   ]
  },
  {
   "cell_type": "code",
   "execution_count": 15,
   "metadata": {},
   "outputs": [
    {
     "name": "stdout",
     "output_type": "stream",
     "text": [
      "[0.99999994 0.99999994]\n"
     ]
    }
   ],
   "source": [
    "a = np.array([28.171087, 30.802778], dtype=np.float32)\n",
    "b = np.array([2.2323670e-06, 2.1488113e-06], dtype=np.float32)\n",
    "\n",
    "print(a / (a+b))"
   ]
  },
  {
   "cell_type": "code",
   "execution_count": 16,
   "metadata": {},
   "outputs": [
    {
     "data": {
      "text/plain": [
       "<tf.Tensor: shape=(1, 5), dtype=int64, numpy=array([[0, 1, 0, 0, 0]])>"
      ]
     },
     "execution_count": 16,
     "metadata": {},
     "output_type": "execute_result"
    }
   ],
   "source": [
    "samples = tf.random.categorical(tf.math.log([[0.5, 0.5]]), 5)\n",
    "samples"
   ]
  },
  {
   "cell_type": "code",
   "execution_count": 17,
   "metadata": {},
   "outputs": [
    {
     "name": "stdout",
     "output_type": "stream",
     "text": [
      "tf.Tensor([1 0 1 1 0 1 1 1 1 1], shape=(10,), dtype=int32)\n"
     ]
    }
   ],
   "source": [
    "shape = (10,8)\n",
    "\n",
    "positive_indices = tf.constant([[1], [4]])\n",
    "positive_indices_mask = tf.zeros_like(positive_indices.shape)\n",
    "\n",
    "mask = tf.ones([shape[0]], dtype=tf.int32)\n",
    "mask = tf.tensor_scatter_nd_update(mask, positive_indices, positive_indices_mask)\n",
    "print(mask)"
   ]
  },
  {
   "cell_type": "code",
   "execution_count": 18,
   "metadata": {},
   "outputs": [
    {
     "name": "stdout",
     "output_type": "stream",
     "text": [
      "tf.Tensor([0.125 0.    0.125 0.125 0.    0.125 0.125 0.125 0.125 0.125], shape=(10,), dtype=float32)\n",
      "tf.Tensor([[8 8 9 ... 8 7 5]], shape=(1, 5000), dtype=int64)\n"
     ]
    }
   ],
   "source": [
    "p = tf.ones(shape[0])\n",
    "p = p * tf.cast(mask, tf.float32)\n",
    "p = p / tf.reduce_sum(p)\n",
    "print(p)\n",
    "\n",
    "candidate_negative_indices = tf.random.categorical(tf.math.log(tf.reshape(p, (1,-1))), 5000) # note log-prob\n",
    "print(candidate_negative_indices)"
   ]
  },
  {
   "cell_type": "code",
   "execution_count": 19,
   "metadata": {},
   "outputs": [
    {
     "data": {
      "text/plain": [
       "(array([640.,   0., 625., 594.,   0., 630., 644., 610., 615., 642.]),\n",
       " array([0. , 0.9, 1.8, 2.7, 3.6, 4.5, 5.4, 6.3, 7.2, 8.1, 9. ]),\n",
       " <a list of 10 Patch objects>)"
      ]
     },
     "execution_count": 19,
     "metadata": {},
     "output_type": "execute_result"
    },
    {
     "data": {
      "image/png": "[encoded data removed]",
      "text/plain": [
       "<Figure size 432x288 with 1 Axes>"
      ]
     },
     "metadata": {
      "needs_background": "light"
     },
     "output_type": "display_data"
    }
   ],
   "source": [
    "plt.hist(candidate_negative_indices)"
   ]
  },
  {
   "cell_type": "code",
   "execution_count": 20,
   "metadata": {},
   "outputs": [
    {
     "ename": "NameError",
     "evalue": "name 'updated' is not defined",
     "output_type": "error",
     "traceback": [
      "\u001b[0;31m---------------------------------------------------------------------------\u001b[0m",
      "\u001b[0;31mNameError\u001b[0m                                 Traceback (most recent call last)",
      "\u001b[0;32m<ipython-input-20-e42a85a48d92>\u001b[0m in \u001b[0;36m<module>\u001b[0;34m\u001b[0m\n\u001b[1;32m      7\u001b[0m \u001b[0mtensor\u001b[0m \u001b[0;34m=\u001b[0m \u001b[0mtf\u001b[0m\u001b[0;34m.\u001b[0m\u001b[0mones\u001b[0m\u001b[0;34m(\u001b[0m\u001b[0;34m[\u001b[0m\u001b[0;36m8\u001b[0m\u001b[0;34m]\u001b[0m\u001b[0;34m,\u001b[0m \u001b[0mdtype\u001b[0m\u001b[0;34m=\u001b[0m\u001b[0mtf\u001b[0m\u001b[0;34m.\u001b[0m\u001b[0mint32\u001b[0m\u001b[0;34m)\u001b[0m\u001b[0;34m\u001b[0m\u001b[0;34m\u001b[0m\u001b[0m\n\u001b[1;32m      8\u001b[0m \u001b[0mmask\u001b[0m \u001b[0;34m=\u001b[0m \u001b[0mtf\u001b[0m\u001b[0;34m.\u001b[0m\u001b[0mtensor_scatter_nd_update\u001b[0m\u001b[0;34m(\u001b[0m\u001b[0mtensor\u001b[0m\u001b[0;34m,\u001b[0m \u001b[0mindices\u001b[0m\u001b[0;34m,\u001b[0m \u001b[0mupdates\u001b[0m\u001b[0;34m)\u001b[0m\u001b[0;34m\u001b[0m\u001b[0;34m\u001b[0m\u001b[0m\n\u001b[0;32m----> 9\u001b[0;31m \u001b[0mprint\u001b[0m\u001b[0;34m(\u001b[0m\u001b[0mupdated\u001b[0m\u001b[0;34m)\u001b[0m\u001b[0;34m\u001b[0m\u001b[0;34m\u001b[0m\u001b[0m\n\u001b[0m",
      "\u001b[0;31mNameError\u001b[0m: name 'updated' is not defined"
     ]
    }
   ],
   "source": [
    "# positive_indices = tf.constant([1,2], dtype=tf.int32)\n",
    "# a = \n",
    "\n",
    "indices = tf.constant([[4], [3], [1], [7]])\n",
    "updates = tf.constant([0, 0, 0, 0])\n",
    "\n",
    "tensor = tf.ones([8], dtype=tf.int32)\n",
    "mask = tf.tensor_scatter_nd_update(tensor, indices, updates)\n",
    "print(updated)"
   ]
  },
  {
   "cell_type": "code",
   "execution_count": null,
   "metadata": {},
   "outputs": [],
   "source": [
    "indices = tf.constant([[4], [3], [1], [7]])\n",
    "updates = tf.constant([9, 10, 11, 12])\n",
    "tensor = tf.ones([12], dtype=tf.int32)\n",
    "updated = tf.tensor_scatter_nd_add(tensor, indices, updates)\n",
    "print(updated)"
   ]
  },
  {
   "cell_type": "code",
   "execution_count": null,
   "metadata": {},
   "outputs": [],
   "source": []
  },
  {
   "cell_type": "code",
   "execution_count": null,
   "metadata": {},
   "outputs": [],
   "source": [
    "import tensorflow as tf"
   ]
  },
  {
   "cell_type": "code",
   "execution_count": null,
   "metadata": {},
   "outputs": [],
   "source": [
    "BS=2\n",
    "N_NEG=3\n",
    "N_DIM=4"
   ]
  },
  {
   "cell_type": "code",
   "execution_count": null,
   "metadata": {},
   "outputs": [],
   "source": [
    "vi = tf.ones((BS, N_DIM))\n",
    "\n",
    "a = tf.ones([BS,N_NEG,N_DIM])\n",
    "negatives = tf.random.uniform([BS,N_NEG,N_DIM])\n",
    "negatives"
   ]
  },
  {
   "cell_type": "code",
   "execution_count": null,
   "metadata": {},
   "outputs": [],
   "source": [
    "cosine_similarity = tf.keras.losses.CosineSimilarity(reduction=tf.losses.Reduction.NONE, axis=-1)"
   ]
  },
  {
   "cell_type": "code",
   "execution_count": null,
   "metadata": {},
   "outputs": [],
   "source": [
    "negatives"
   ]
  },
  {
   "cell_type": "code",
   "execution_count": null,
   "metadata": {},
   "outputs": [],
   "source": [
    "similatiry = []\n",
    "for vi_prime in tf.transpose(negatives, (1,0,2)):\n",
    "    vi_prime = tf.expand_dims(vi_prime, axis=1)\n",
    "    \n",
    "    negatives_ = tf.expand_dims(tf.reshape(negatives, (-1,N_DIM)), axis=0)\n",
    "    \n",
    "    print(vi_prime)\n",
    "    print(\"---------------\")\n",
    "#     print(negatives_)\n",
    "#     print(\"---------------\")\n",
    "    s = cosine_similarity(vi_prime, negatives_)\n",
    "    similatiry.append(s)\n",
    "    print(s)\n",
    "    s = tf.reduce_sum(s, axis=1)\n",
    "#     print(s)\n",
    "    print(\"---------------\")\n",
    "    print(\"---------------\")\n",
    "\n",
    "#     break"
   ]
  },
  {
   "cell_type": "code",
   "execution_count": null,
   "metadata": {},
   "outputs": [],
   "source": [
    "res = cosine_similarity(negatives, negatives)"
   ]
  },
  {
   "cell_type": "code",
   "execution_count": null,
   "metadata": {},
   "outputs": [],
   "source": [
    "cosine_similarity([0.34904468, 0.73694515, 0.02537,    0.54320323], \n",
    "                  [0.4723971,  0.58122766, 0.878623,   0.18785727])"
   ]
  },
  {
   "cell_type": "markdown",
   "metadata": {},
   "source": [
    "## MAPFN"
   ]
  },
  {
   "cell_type": "code",
   "execution_count": null,
   "metadata": {},
   "outputs": [],
   "source": [
    "print(negatives.shape)\n",
    "\n",
    "@tf.function\n",
    "def func(vi_prime):\n",
    "    vi_prime = tf.expand_dims(vi_prime, axis=1)\n",
    "    similarity = cosine_similarity(vi_prime, negatives)\n",
    "    return similarity\n",
    "\n",
    "\n",
    "squares = tf.map_fn(func, tf.transpose(negatives, (1,0,2)), parallel_iterations=BS)"
   ]
  },
  {
   "cell_type": "markdown",
   "metadata": {},
   "source": [
    "## UNPACK"
   ]
  },
  {
   "cell_type": "code",
   "execution_count": null,
   "metadata": {},
   "outputs": [],
   "source": [
    "tf.unstack(tf.transpose(negatives, (1,0,2)))"
   ]
  }
 ],
 "metadata": {
  "kernelspec": {
   "display_name": "tf2.0",
   "language": "python",
   "name": "tf2.0"
  },
  "language_info": {
   "codemirror_mode": {
    "name": "ipython",
    "version": 3
   },
   "file_extension": ".py",
   "mimetype": "text/x-python",
   "name": "python",
   "nbconvert_exporter": "python",
   "pygments_lexer": "ipython3",
   "version": "3.6.8"
  }
 },
 "nbformat": 4,
 "nbformat_minor": 2
}
